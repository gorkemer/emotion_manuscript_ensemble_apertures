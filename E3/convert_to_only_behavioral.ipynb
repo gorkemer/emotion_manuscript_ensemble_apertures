{
 "cells": [
  {
   "cell_type": "code",
   "execution_count": 6,
   "metadata": {},
   "outputs": [
    {
     "name": "stdout",
     "output_type": "stream",
     "text": [
      "Get current working directory :  /Users/gorkemer/Desktop/dynamic_averaging/E3\n"
     ]
    }
   ],
   "source": [
    "import numpy as np\n",
    "import matplotlib.pyplot as plt\n",
    "import seaborn as sns\n",
    "import matplotlib as mpl\n",
    "import pandas as pd\n",
    "import pylab\n",
    "from scipy import stats\n",
    "from scipy.optimize import curve_fit\n",
    "from scipy import asarray as ar,exp\n",
    "import cv2\n",
    "from scipy import ndimage\n",
    "from PIL import Image\n",
    "import imageio\n",
    "# loading libraries or packages\n",
    "import os\n",
    "print('Get current working directory : ', os.getcwd())\n",
    "\n",
    "\n",
    "path = '/Users/gorkemer/Desktop/dynamic_averaging/E3'# os.getcwd()#\n",
    "# loading data frames, E3\n",
    "df_fix = pd.read_csv(path + '/list_of_fixations.csv')\n",
    "#df_sac = pd.read_csv(path + '/list_of_saccades.csv')\n",
    "\n",
    "df_variables = pd.read_csv(path + '/list_of_variables.csv')\n",
    "number_of_subs = df_fix[\"subID\"].unique()\n",
    "df_variables['fileName'] = df_variables['subID']"
   ]
  },
  {
   "cell_type": "code",
   "execution_count": 7,
   "metadata": {},
   "outputs": [
    {
     "name": "stdout",
     "output_type": "stream",
     "text": [
      "       trial                    fileName     RT originalNo responseKey  \\\n",
      "0          1  AV_01_2024_04_16_14_15.EDF  2.068        119          -4   \n",
      "1          1  AV_02_2024_04_16_14_40.EDF  3.701         83           4   \n",
      "2          1  AV_03_2024_04_16_15_23.EDF  4.918          9           0   \n",
      "3          1  AV_04_2024_04_22_11_05.EDF  4.717        100          -3   \n",
      "4          1  AV_05_2024_04_22_12_01.EDF  3.719         48          -5   \n",
      "...      ...                         ...    ...        ...         ...   \n",
      "11760    173  AV_52_2024_05_29_12_28.EDF  2.552         94          -6   \n",
      "11761    174  AV_29_2024_05_19_09_35.EDF  2.889        103          -3   \n",
      "11762    174  AV_52_2024_05_29_12_28.EDF  2.504        105           6   \n",
      "11763    175  AV_52_2024_05_29_12_28.EDF  2.218         87          -4   \n",
      "11764    176  AV_52_2024_05_29_12_28.EDF  2.685        108          -5   \n",
      "\n",
      "      singleGroup spatialFreqCond     stim1          stim1_pos     stim2  \\\n",
      "0        single_A             \\BB  C102.jpg   [130.67, 315.47]  D102.jpg   \n",
      "1           group             \\BB   D52.jpg  [-130.67, 315.47]   C52.jpg   \n",
      "2           group             \\BB   A52.jpg  [-130.67, 315.47]   C52.jpg   \n",
      "3        single_A             \\BB  A102.jpg  [-130.67, 315.47]  D102.jpg   \n",
      "4           group             \\BB   C52.jpg  [-315.47, 130.67]  A102.jpg   \n",
      "...           ...             ...       ...                ...       ...   \n",
      "11760       group             \\BB  D102.jpg   [315.47, 130.67]    C2.jpg   \n",
      "11761    single_A             \\BB  A102.jpg  [-315.47, 130.67]  D102.jpg   \n",
      "11762    single_H             \\BB   B52.jpg   [315.47, 130.67]  D102.jpg   \n",
      "11763       group             \\BB  D102.jpg  [-130.67, 315.47]  B102.jpg   \n",
      "11764    single_A             \\BB  B102.jpg  [-130.67, 315.47]  D102.jpg   \n",
      "\n",
      "               stim2_pos     stim3          stim3_pos     stim4  \\\n",
      "0      [-315.47, 130.67]  D102.jpg   [315.47, 130.67]  D102.jpg   \n",
      "1       [315.47, 130.67]   B52.jpg   [130.67, 315.47]   A52.jpg   \n",
      "2       [315.47, 130.67]   B52.jpg   [130.67, 315.47]   D52.jpg   \n",
      "3       [130.67, 315.47]  D102.jpg  [-315.47, 130.67]  D102.jpg   \n",
      "4      [-130.67, 315.47]  D102.jpg   [315.47, 130.67]  B102.jpg   \n",
      "...                  ...       ...                ...       ...   \n",
      "11760  [-130.67, 315.47]    A2.jpg  [-315.47, 130.67]    B2.jpg   \n",
      "11761   [130.67, 315.47]  D102.jpg  [-130.67, 315.47]  D102.jpg   \n",
      "11762   [130.67, 315.47]  D102.jpg  [-315.47, 130.67]  D102.jpg   \n",
      "11763   [130.67, 315.47]  A102.jpg  [-315.47, 130.67]  C102.jpg   \n",
      "11764   [315.47, 130.67]  D102.jpg  [-315.47, 130.67]  D102.jpg   \n",
      "\n",
      "               stim4_pos   stimOrg  subID synched targetStrength up_log  \n",
      "0      [-130.67, 315.47]  single_A  AV_01       1             31  False  \n",
      "1      [-315.47, 130.67]      HHHH  AV_02       1             31  False  \n",
      "2      [-315.47, 130.67]      HHHH  AV_03       1              6  False  \n",
      "3       [315.47, 130.67]  single_A  AV_04       1              6   True  \n",
      "4       [130.67, 315.47]      HAAA  AV_05       1              6   True  \n",
      "...                  ...       ...    ...     ...            ...    ...  \n",
      "11760   [130.67, 315.47]      AFFF  AV_52       1             31   True  \n",
      "11761   [315.47, 130.67]  single_A  AV_29       1             31  False  \n",
      "11762  [-130.67, 315.47]  single_H  AV_52       1              6  False  \n",
      "11763   [315.47, 130.67]      AAAA  AV_52       1             31  False  \n",
      "11764   [130.67, 315.47]  single_A  AV_52       1              6   True  \n",
      "\n",
      "[11765 rows x 20 columns]\n"
     ]
    }
   ],
   "source": [
    "\n",
    "df_pivoted = df_variables.pivot_table(index=['trial', 'fileName'], columns='variable', values='value', aggfunc='first').reset_index()\n",
    "\n",
    "# Optionally rename columns if needed\n",
    "df_pivoted.columns.name = None  # Remove the columns name\n",
    "df_pivoted = df_pivoted.rename_axis(None, axis=1)  # Reset column index name\n",
    "\n",
    "# Print or check the resulting DataFrame\n",
    "print(df_pivoted)\n",
    "df_pivoted.to_csv(\"e3_total_behavioral_data.csv\")\n",
    "\n"
   ]
  }
 ],
 "metadata": {
  "kernelspec": {
   "display_name": "nasa-env",
   "language": "python",
   "name": "python3"
  },
  "language_info": {
   "codemirror_mode": {
    "name": "ipython",
    "version": 3
   },
   "file_extension": ".py",
   "mimetype": "text/x-python",
   "name": "python",
   "nbconvert_exporter": "python",
   "pygments_lexer": "ipython3",
   "version": "3.10.13"
  }
 },
 "nbformat": 4,
 "nbformat_minor": 2
}
